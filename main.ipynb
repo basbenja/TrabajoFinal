{
 "cells": [
  {
   "cell_type": "markdown",
   "metadata": {},
   "source": [
    "# **Importación de Librerías**"
   ]
  },
  {
   "cell_type": "code",
   "execution_count": 28,
   "metadata": {
    "id": "jaea6ppoSYFx"
   },
   "outputs": [
    {
     "name": "stdout",
     "output_type": "stream",
     "text": [
      "The autoreload extension is already loaded. To reload it, use:\n",
      "  %reload_ext autoreload\n"
     ]
    },
    {
     "data": {
      "text/plain": [
       "<torch._C.Generator at 0x7f631a5058f0>"
      ]
     },
     "execution_count": 28,
     "metadata": {},
     "output_type": "execute_result"
    }
   ],
   "source": [
    "%load_ext autoreload\n",
    "%autoreload 2\n",
    "\n",
    "import json\n",
    "import mlflow\n",
    "import mlflow.exceptions\n",
    "import optuna\n",
    "import os\n",
    "import pprint\n",
    "import tempfile\n",
    "import time\n",
    "import torch\n",
    "import torch.nn as nn\n",
    "import torch.optim as optim\n",
    "\n",
    "from torch.utils.data import TensorDataset\n",
    "\n",
    "from optuna.visualization import plot_pareto_front, plot_param_importances\n",
    "\n",
    "from sklearn.utils.class_weight import compute_class_weight\n",
    "from sklearn.preprocessing import StandardScaler\n",
    "\n",
    "from utils.load_data import *\n",
    "from utils.train_predict import train_validate_loop, predict\n",
    "from utils.early_stopping import EarlyStopping\n",
    "from utils.metrics import *\n",
    "from utils.optuna_utils import *\n",
    "\n",
    "from models.lstm import *\n",
    "\n",
    "from tqdm.notebook import tqdm\n",
    "\n",
    "torch.manual_seed(42)"
   ]
  },
  {
   "cell_type": "code",
   "execution_count": 2,
   "metadata": {},
   "outputs": [],
   "source": [
    "OPTUNA_STORAGE = \"sqlite:///optuna_db.sqlite3\"\n",
    "\n",
    "HOST = \"0.0.0.0\"\n",
    "PORT = 8080\n",
    "TRACKING_SERVER_URI = f\"http://{HOST}:{PORT}\"\n",
    "mlflow.set_tracking_uri(TRACKING_SERVER_URI)"
   ]
  },
  {
   "cell_type": "code",
   "execution_count": 3,
   "metadata": {},
   "outputs": [
    {
     "name": "stdout",
     "output_type": "stream",
     "text": [
      "RESOURCE_ALREADY_EXISTS: Experiment 'Final Project - CS - FAMAF - 2024' already exists.\n"
     ]
    },
    {
     "data": {
      "text/plain": [
       "<Experiment: artifact_location='mlflow-artifacts:/141862488478819453', creation_time=1733267099194, experiment_id='141862488478819453', last_update_time=1733267099194, lifecycle_stage='active', name='Final Project - CS - FAMAF - 2024', tags={'author': 'bbas',\n",
       " 'mlflow.note.content': 'Final Project of Computer Science MS at FAMAF-UNC: '\n",
       "                        'Control Group Identification with Neural Networks',\n",
       " 'project_name': 'FinalProject-CS-FAMAF-2024'}>"
      ]
     },
     "execution_count": 3,
     "metadata": {},
     "output_type": "execute_result"
    }
   ],
   "source": [
    "EXPERIMENT_NAME = \"Final Project - CS - FAMAF - 2024\"\n",
    "EXPERIMENT_DESCRIPTION = (\n",
    "    \"Final Project of Computer Science MS at FAMAF-UNC: Control Group Identification \"\n",
    "    \"with Neural Networks\"\n",
    ")\n",
    "EXPERIMENT_TAGS = {\n",
    "    \"project_name\": \"FinalProject-CS-FAMAF-2024\",\n",
    "    \"author\": \"bbas\",\n",
    "    \"mlflow.note.content\": EXPERIMENT_DESCRIPTION\n",
    "}\n",
    "\n",
    "try:\n",
    "    mlflow.create_experiment(name=EXPERIMENT_NAME, tags=EXPERIMENT_TAGS)\n",
    "except mlflow.exceptions.RestException as e:\n",
    "    print(e)\n",
    "mlflow.set_experiment(EXPERIMENT_NAME)"
   ]
  },
  {
   "cell_type": "code",
   "execution_count": 4,
   "metadata": {
    "id": "PlHQsGhFSYF1"
   },
   "outputs": [],
   "source": [
    "DATA_DIR = \"/users/bbas/TrabajoFinal/databases\"\n",
    "GROUP = \"Grupo1\"\n",
    "SIMULATION = \"Simulacion_1.dta\"\n",
    "FILEPATH = os.path.join(DATA_DIR, GROUP, SIMULATION)\n",
    "\n",
    "def start_new_run():\n",
    "    timestamp = time.strftime(\"%Y%m%d-%H%M%S\")\n",
    "    run = mlflow.start_run(run_name=f\"run_{timestamp}\")\n",
    "    mlflow.log_params({\n",
    "        \"Group\": GROUP,\n",
    "        \"Simulation\": SIMULATION,\n",
    "        \"Filepath\": FILEPATH,\n",
    "    })\n",
    "    return run\n",
    "\n",
    "active_run = mlflow.active_run()\n",
    "if not active_run:\n",
    "    run = start_new_run()\n",
    "else:\n",
    "    print(f\"There is an active run, name: {active_run.info.run_name}\")\n",
    "    end_run = input(\"Do you want to delete it? (y/n): \")\n",
    "    if end_run == \"y\":\n",
    "        mlflow.end_run()\n",
    "        run = start_new_run()\n",
    "    else:\n",
    "        run = active_run"
   ]
  },
  {
   "cell_type": "markdown",
   "metadata": {
    "id": "x5v_3f_FDqHc"
   },
   "source": [
    "**Terminología**:\n",
    "* Tipo 1: individuos tratados.\n",
    "* Tipo 2: individuos de control (i.e. podrían haber sido tratados pero por alguna razón no lo fueron)\n",
    "* Tipo 3: ni tratados ni de control."
   ]
  },
  {
   "cell_type": "code",
   "execution_count": 5,
   "metadata": {
    "colab": {
     "base_uri": "https://localhost:8080/",
     "height": 363
    },
    "id": "sjGpNBoTSYF2",
    "outputId": "a11baa73-7e16-4a5f-a30f-bb37905a19a7"
   },
   "outputs": [],
   "source": [
    "type1_df, type2_df, type3_df = get_dfs(FILEPATH)\n",
    "\n",
    "for i, df in enumerate([type1_df, type2_df, type3_df]):\n",
    "    with tempfile.TemporaryDirectory() as tmpdir:\n",
    "        file_path = os.path.join(tmpdir, f\"type{i+1}.csv\")\n",
    "        df.to_csv(file_path, index=False)\n",
    "        mlflow.log_artifact(file_path, artifact_path=\"dataframes\")"
   ]
  },
  {
   "cell_type": "markdown",
   "metadata": {
    "id": "D3yE4IV7ClWO"
   },
   "source": [
    "# **Conjunto de entrenamiento**\n",
    "En el conjunto de entrenamiento, metemos:\n",
    "* Todos los de tipo 1 (con target 1)\n",
    "* Algunos de tipo 3 (con target 0).\n"
   ]
  },
  {
   "cell_type": "code",
   "execution_count": 6,
   "metadata": {
    "id": "TEcrukq_cEbE"
   },
   "outputs": [],
   "source": [
    "# De los individuos de tipo 3, vamos a meter 600 en el conjunto de entrenamiento\n",
    "# de forma tal de tener en total 700 (600 + 100, 70%) individuos en en este conjunto.\n",
    "type3_train = 600\n",
    "# A los que sobran los metemos en el de test\n",
    "type3_test  = len(type3_df) - type3_train"
   ]
  },
  {
   "cell_type": "code",
   "execution_count": 7,
   "metadata": {
    "colab": {
     "base_uri": "https://localhost:8080/"
    },
    "id": "LNUhyIbmzaqn",
    "outputId": "cc78775e-d17d-4cb1-b4f8-645b939bf59a"
   },
   "outputs": [],
   "source": [
    "train_df = pd.concat([type1_df, type3_df[:type3_train]], ignore_index=True)\n",
    "train_df.set_index('id', inplace=True)\n",
    "\n",
    "X_train_df = train_df.drop(columns=['tratado', 'control'])\n",
    "y_train_df = train_df['tratado']"
   ]
  },
  {
   "cell_type": "markdown",
   "metadata": {},
   "source": [
    "## **Balanceo de clases**"
   ]
  },
  {
   "cell_type": "code",
   "execution_count": 8,
   "metadata": {
    "colab": {
     "base_uri": "https://localhost:8080/"
    },
    "id": "zQiAwy1DC8QN",
    "outputId": "d7e2afd7-620c-4432-97a7-dcbf9b908a23"
   },
   "outputs": [
    {
     "data": {
      "text/plain": [
       "tratado\n",
       "0    600\n",
       "1    100\n",
       "Name: count, dtype: int64"
      ]
     },
     "execution_count": 8,
     "metadata": {},
     "output_type": "execute_result"
    }
   ],
   "source": [
    "y_train_df.value_counts()"
   ]
  },
  {
   "cell_type": "markdown",
   "metadata": {
    "id": "EXv_RmiXWu8V"
   },
   "source": [
    "Vemos que el conjunto de entrenamiento está desbalanceado: tiene 100 datos con label 1 y 600 con label 0. Vamos a dejar el dataset así y corregirlo asignando pesos a la función de pérdida durante el entrenamiento. Calculo los pesos acá:"
   ]
  },
  {
   "cell_type": "code",
   "execution_count": 9,
   "metadata": {
    "colab": {
     "base_uri": "https://localhost:8080/"
    },
    "id": "svQDm13AW8nO",
    "outputId": "25914f68-2bfd-459e-9557-b9397422a79b"
   },
   "outputs": [
    {
     "name": "stdout",
     "output_type": "stream",
     "text": [
      "Peso para la clase 0 (mayoritaria): 0.5833\n",
      "Peso para la clase 1 (minoritaria): 3.5000\n"
     ]
    }
   ],
   "source": [
    "weights = compute_class_weight(\n",
    "    class_weight=\"balanced\", classes=np.unique(y_train_df), y=y_train_df\n",
    ")\n",
    "\n",
    "print(f\"Peso para la clase 0 (mayoritaria): {weights[0]:.4f}\")\n",
    "print(f\"Peso para la clase 1 (minoritaria): {weights[1]:.4f}\")"
   ]
  },
  {
   "cell_type": "markdown",
   "metadata": {},
   "source": [
    "# **Conjunto de validación**\n",
    "TODO!!!!\n",
    "\n",
    "Para la búsqueda de hiperparámetros con Optuna.\n",
    "\n",
    "Hasta ahora, nos quedan:\n",
    "- Todos los individuos de tipo 2, que son 100\n",
    "- 200 inidivudos de tipo 3\n",
    "\n",
    "Vamos a hacer un split de 70-20-10. O sea, si en total tenemos 1000 muestras, en el de validación tenemos que dejar 200 y en el de test 100.\n",
    "\n",
    "Primera alternativa:\n",
    "- Validación:\n",
    "- Test: "
   ]
  },
  {
   "cell_type": "markdown",
   "metadata": {
    "id": "gxNlt5C6Crq7"
   },
   "source": [
    "# **Conjunto de test**\n",
    "En el conjunto de test, metemos:\n",
    "* Todos los de tipo 2 (con target 1)\n",
    "* Los que sobraron de tipo 3 (con target 0)."
   ]
  },
  {
   "cell_type": "code",
   "execution_count": 10,
   "metadata": {},
   "outputs": [],
   "source": [
    "test_df = pd.concat([type2_df, type3_df[type3_train:]], ignore_index=True)\n",
    "test_df.set_index('id', inplace=True)\n",
    "\n",
    "X_test_df = test_df.drop(columns=['tratado', 'control'])\n",
    "y_test_df = test_df['control']"
   ]
  },
  {
   "cell_type": "markdown",
   "metadata": {},
   "source": [
    "Estandarizamos:"
   ]
  },
  {
   "cell_type": "code",
   "execution_count": 11,
   "metadata": {},
   "outputs": [],
   "source": [
    "required_periods = 4\n",
    "mlflow.log_param(\"required_periods\", required_periods)\n",
    "\n",
    "value_columns = ['inicio_prog'] + [f'y(t-{i})' for i in range(required_periods, 0, -1)]"
   ]
  },
  {
   "cell_type": "code",
   "execution_count": 12,
   "metadata": {},
   "outputs": [],
   "source": [
    "scaler =  StandardScaler().fit(X_train_df[value_columns])\n",
    "\n",
    "X_train_df[value_columns] = scaler.transform(X_train_df[value_columns])\n",
    "train_df[value_columns] = X_train_df[value_columns]\n",
    "\n",
    "X_test_df[value_columns] = scaler.transform(X_test_df [value_columns])\n",
    "test_df[value_columns] = X_test_df [value_columns]"
   ]
  },
  {
   "cell_type": "code",
   "execution_count": 13,
   "metadata": {},
   "outputs": [
    {
     "name": "stderr",
     "output_type": "stream",
     "text": [
      "/users/bbas/.pyenv/versions/TrabajoFinal/lib/python3.12/site-packages/mlflow/types/utils.py:407: UserWarning: Hint: Inferred schema contains integer column(s). Integer columns in Python cannot represent missing values. If your input data contains missing values at inference time, it will be encoded as floats and will cause a schema enforcement error. The best way to avoid this problem is to infer the model schema based on a realistic data sample (training dataset) that includes missing values. Alternatively, you can declare integer columns as doubles (float64) whenever these columns may have missing values. See `Handling Integers With Missing Values <https://www.mlflow.org/docs/latest/models.html#handling-integers-with-missing-values>`_ for more details.\n",
      "  warnings.warn(\n",
      "/users/bbas/.pyenv/versions/TrabajoFinal/lib/python3.12/site-packages/mlflow/types/utils.py:407: UserWarning: Hint: Inferred schema contains integer column(s). Integer columns in Python cannot represent missing values. If your input data contains missing values at inference time, it will be encoded as floats and will cause a schema enforcement error. The best way to avoid this problem is to infer the model schema based on a realistic data sample (training dataset) that includes missing values. Alternatively, you can declare integer columns as doubles (float64) whenever these columns may have missing values. See `Handling Integers With Missing Values <https://www.mlflow.org/docs/latest/models.html#handling-integers-with-missing-values>`_ for more details.\n",
      "  warnings.warn(\n"
     ]
    }
   ],
   "source": [
    "mlflow.log_input(\n",
    "    mlflow.data.from_pandas(test_df, targets=\"control\"),\n",
    "    context=\"testing\",\n",
    ")\n",
    "mlflow.log_input(\n",
    "    mlflow.data.from_pandas(train_df, targets=\"tratado\"),\n",
    "    context=\"training\",\n",
    ")"
   ]
  },
  {
   "cell_type": "markdown",
   "metadata": {
    "id": "NkTV_FJRYJB4"
   },
   "source": [
    "# **LSTM**"
   ]
  },
  {
   "cell_type": "markdown",
   "metadata": {},
   "source": [
    "Basados en el documento `docs/lstm.md`, transformemos los datos que tenemos a la forma que necesitan las LSTM:\n",
    "`(batch_size, sequence_length, num_features)`."
   ]
  },
  {
   "cell_type": "markdown",
   "metadata": {
    "id": "-0EVPE5UaP9d"
   },
   "source": [
    "Cada fila es un individuo y en cada fila ya tenemos todo lo que necesitamos, los 4 datos temporales (`y(t-4)`, `y(t-3)`, `y(t-2)`, `y(t-1)`) y además el dato estático (`inicio_prog`) que lo vamos a tener que repetir cuatro veces para tener la dimensión que deseamos."
   ]
  },
  {
   "cell_type": "code",
   "execution_count": 14,
   "metadata": {
    "id": "WRK3llPh5a2D"
   },
   "outputs": [],
   "source": [
    "time_steps = required_periods\n",
    "num_features = 2"
   ]
  },
  {
   "cell_type": "code",
   "execution_count": 15,
   "metadata": {},
   "outputs": [],
   "source": [
    "X_train_tensor = get_lstm_input(X_train_df, time_steps, num_features)\n",
    "X_test_tensor  = get_lstm_input(X_test_df , time_steps, num_features)\n",
    "\n",
    "# When using BCEWithLogitsLoss as loss function, the targets should be casted to\n",
    "# float\n",
    "y_train_tensor = torch.tensor(y_train_df.values, dtype=torch.float)\n",
    "y_test_tensor  = torch.tensor(y_test_df.values , dtype=torch.float)\n",
    "\n",
    "train_set = TensorDataset(X_train_tensor, y_train_tensor)\n",
    "test_set  = TensorDataset(X_test_tensor , y_test_tensor)"
   ]
  },
  {
   "cell_type": "markdown",
   "metadata": {
    "id": "kptxCJGX-Swv"
   },
   "source": [
    "## **Búsqueda de hiperparámetros con Optuna**"
   ]
  },
  {
   "cell_type": "code",
   "execution_count": 16,
   "metadata": {},
   "outputs": [
    {
     "name": "stderr",
     "output_type": "stream",
     "text": [
      "[I 2024-12-09 23:18:38,572] A new study created in RDB with name: study_20241209-231837\n",
      "/tmp/ipykernel_3507131/511361121.py:21: ExperimentalWarning: set_metric_names is experimental (supported from v3.2.0). The interface can change in the future.\n",
      "  study.set_metric_names(metrics)\n"
     ]
    },
    {
     "data": {
      "application/vnd.jupyter.widget-view+json": {
       "model_id": "cd365866825e4688a552a569c1a09c07",
       "version_major": 2,
       "version_minor": 0
      },
      "text/plain": [
       "  0%|          | 0/10 [00:00<?, ?it/s]"
      ]
     },
     "metadata": {},
     "output_type": "display_data"
    },
    {
     "name": "stderr",
     "output_type": "stream",
     "text": [
      "/users/bbas/.pyenv/versions/TrabajoFinal/lib/python3.12/site-packages/torch/cuda/__init__.py:129: UserWarning: CUDA initialization: CUDA unknown error - this may be due to an incorrectly set up environment, e.g. changing env variable CUDA_VISIBLE_DEVICES after program start. Setting the available devices to be zero. (Triggered internally at ../c10/cuda/CUDAFunctions.cpp:108.)\n",
      "  return torch._C._cuda_getDeviceCount() > 0\n"
     ]
    },
    {
     "name": "stdout",
     "output_type": "stream",
     "text": [
      "[I 2024-12-09 23:19:17,129] Trial 8 finished with values: {'accuracy': 0.7633333333333333, 'avg_feats_diff': 2.403488874435425} and parameters: {'hidden_size': 51, 'n_layers': 1, 'optimizer': 'Adam', 'lr': 0.0006301093129217892, 'n_epochs': 132, 'batch_size': 79}.\n",
      "[I 2024-12-09 23:19:43,027] Trial 6 finished with values: {'accuracy': 0.84, 'avg_feats_diff': 0.6849752068519592} and parameters: {'hidden_size': 45, 'n_layers': 3, 'optimizer': 'RMSprop', 'lr': 0.021613519800642512, 'n_epochs': 200, 'batch_size': 121}.\n",
      "[I 2024-12-09 23:19:52,860] Trial 5 finished with values: {'accuracy': 0.7633333333333333, 'avg_feats_diff': 4.393928527832031} and parameters: {'hidden_size': 47, 'n_layers': 2, 'optimizer': 'RMSprop', 'lr': 1.3841076968999591e-05, 'n_epochs': 180, 'batch_size': 57}.\n",
      "[I 2024-12-09 23:20:00,180] Trial 9 finished with values: {'accuracy': 0.9066666666666666, 'avg_feats_diff': 0.25565195083618164} and parameters: {'hidden_size': 89, 'n_layers': 2, 'optimizer': 'RMSprop', 'lr': 0.002355414378793765, 'n_epochs': 242, 'batch_size': 82}.\n",
      "[I 2024-12-09 23:20:05,871] Trial 3 finished with values: {'accuracy': 0.8233333333333334, 'avg_feats_diff': 1.732271671295166} and parameters: {'hidden_size': 97, 'n_layers': 1, 'optimizer': 'Adam', 'lr': 0.09186744380167287, 'n_epochs': 216, 'batch_size': 40}.\n",
      "[W 2024-12-09 23:20:06,522] Trial 0 failed with parameters: {'hidden_size': 25, 'n_layers': 2, 'optimizer': 'SGD', 'lr': 0.0005836909921036623, 'n_epochs': 219, 'batch_size': 27} because of the following error: The value nan is not acceptable.\n",
      "[W 2024-12-09 23:20:06,527] Trial 0 failed with value (0.6666666666666666, tensor(nan)).\n",
      "[I 2024-12-09 23:20:06,995] Trial 2 finished with values: {'accuracy': 0.7633333333333333, 'avg_feats_diff': 2.546858549118042} and parameters: {'hidden_size': 30, 'n_layers': 3, 'optimizer': 'RMSprop', 'lr': 0.00033014698767959373, 'n_epochs': 150, 'batch_size': 43}.\n",
      "[I 2024-12-09 23:20:20,784] Trial 7 finished with values: {'accuracy': 0.8233333333333334, 'avg_feats_diff': 0.08077871799468994} and parameters: {'hidden_size': 25, 'n_layers': 3, 'optimizer': 'Adam', 'lr': 0.01229498979348333, 'n_epochs': 153, 'batch_size': 30}.\n",
      "[I 2024-12-09 23:20:31,710] Trial 1 finished with values: {'accuracy': 0.7566666666666667, 'avg_feats_diff': 2.405027151107788} and parameters: {'hidden_size': 122, 'n_layers': 3, 'optimizer': 'SGD', 'lr': 0.096450807201466, 'n_epochs': 251, 'batch_size': 36}.\n",
      "[I 2024-12-09 23:20:53,490] Trial 4 finished with values: {'accuracy': 0.7533333333333333, 'avg_feats_diff': 2.3598456382751465} and parameters: {'hidden_size': 33, 'n_layers': 3, 'optimizer': 'Adam', 'lr': 9.177131863553742e-05, 'n_epochs': 298, 'batch_size': 28}.\n"
     ]
    }
   ],
   "source": [
    "timestamp = time.strftime(\"%Y%m%d-%H%M%S\")\n",
    "study_name = f\"study_{timestamp}\"\n",
    "study_n_trials = 10\n",
    "\n",
    "metrics = [\"accuracy\", \"avg_feats_diff\"]\n",
    "directions = [\"maximize\", \"minimize\"]\n",
    "kwargs = {}\n",
    "\n",
    "mlflow.log_params({\n",
    "    \"study_name\": study_name,\n",
    "    \"study_n_trials\": study_n_trials,\n",
    "    \"objective_metrics\": metrics,\n",
    "    \"directions\": directions\n",
    "})\n",
    "\n",
    "study = optuna.create_study(\n",
    "    directions=directions,\n",
    "    storage=OPTUNA_STORAGE,\n",
    "    study_name=study_name\n",
    ")\n",
    "study.set_metric_names(metrics)\n",
    "study.optimize(\n",
    "    lambda trial: objective(trial, train_set, test_set, weights, metrics, **kwargs),\n",
    "    n_trials=study_n_trials,\n",
    "    timeout=600,\n",
    "    n_jobs=-1,\n",
    "    show_progress_bar=True\n",
    ")"
   ]
  },
  {
   "cell_type": "code",
   "execution_count": null,
   "metadata": {},
   "outputs": [],
   "source": [
    "fig = plot_pareto_front(study, target_names=metrics)\n",
    "\n",
    "with tempfile.TemporaryDirectory() as tmpdir:\n",
    "    file_path = os.path.join(tmpdir, \"pareto_front_plot.png\")\n",
    "    fig.write_image(file_path)\n",
    "    mlflow.log_artifact(file_path)"
   ]
  },
  {
   "cell_type": "code",
   "execution_count": 18,
   "metadata": {},
   "outputs": [
    {
     "name": "stdout",
     "output_type": "stream",
     "text": [
      "Number of trials on the Pareto front: 2\n",
      "Metric: accuracy\n",
      "\tDirection: maximize\n",
      "\tTrial number: 9\n",
      "\tValues: [0.9066666666666666, 0.25565195083618164]\n",
      "\tParams: {'hidden_size': 89, 'n_layers': 2, 'optimizer': 'RMSprop', 'lr': 0.002355414378793765, 'n_epochs': 242, 'batch_size': 82}\n",
      "Metric: avg_feats_diff\n",
      "\tDirection: minimize\n",
      "\tTrial number: 7\n",
      "\tValues: [0.8233333333333334, 0.08077871799468994]\n",
      "\tParams: {'hidden_size': 25, 'n_layers': 3, 'optimizer': 'Adam', 'lr': 0.01229498979348333, 'n_epochs': 153, 'batch_size': 30}\n"
     ]
    }
   ],
   "source": [
    "print(f\"Number of trials on the Pareto front: {len(study.best_trials)}\")\n",
    "\n",
    "for i, (metric, direction) in enumerate(zip(metrics, directions)):\n",
    "    if direction == 'maximize':\n",
    "        best_trial = max(study.best_trials, key=lambda t: t.values[i])\n",
    "    elif direction == 'minimize':\n",
    "        best_trial = min(study.best_trials, key=lambda t: t.values[i])\n",
    "    \n",
    "    print(f\"Metric: {metric}\")\n",
    "    print(f\"\\tDirection: {direction}\")\n",
    "    print(f\"\\tTrial number: {best_trial.number}\")\n",
    "    print(f\"\\tValues: {best_trial.values}\")\n",
    "    print(f\"\\tParams: {best_trial.params}\")"
   ]
  },
  {
   "cell_type": "code",
   "execution_count": null,
   "metadata": {},
   "outputs": [],
   "source": [
    "best_trials_info = get_best_trials_info(study, metrics)\n",
    "with tempfile.TemporaryDirectory() as tmpdir:\n",
    "    file_path = os.path.join(tmpdir, \"best_trials_info.json\")\n",
    "    with open(file_path, \"w\") as f:\n",
    "        json.dump(best_trials_info, f)\n",
    "    mlflow.log_artifact(file_path)"
   ]
  },
  {
   "cell_type": "code",
   "execution_count": 20,
   "metadata": {},
   "outputs": [],
   "source": [
    "best_trials_numbers = [trial['trial_number'] for trial in best_trials_info]\n",
    "mlflow.log_params({\n",
    "    \"best_trials_numbers\": best_trials_numbers\n",
    "})"
   ]
  },
  {
   "cell_type": "markdown",
   "metadata": {},
   "source": [
    "## **Entrenamiento del modelo con mejores hiperparámetros**"
   ]
  },
  {
   "cell_type": "code",
   "execution_count": 31,
   "metadata": {},
   "outputs": [
    {
     "data": {
      "application/vnd.jupyter.widget-view+json": {
       "model_id": "1ae8d953c6c442ee9fe1ab6492373f8a",
       "version_major": 2,
       "version_minor": 0
      },
      "text/plain": [
       "  0%|          | 0/153 [00:00<?, ?it/s]"
      ]
     },
     "metadata": {},
     "output_type": "display_data"
    },
    {
     "name": "stdout",
     "output_type": "stream",
     "text": [
      "Epoch 0 -----------------------------------------------------\n",
      "{'accuracy': 0.75, 'avg_feats_diff': 1.9698553085327148}\n",
      "Epoch 1 -----------------------------------------------------\n",
      "{'accuracy': 0.7566666666666667, 'avg_feats_diff': 1.9325406551361084}\n",
      "Epoch 2 -----------------------------------------------------\n",
      "{'accuracy': 0.7633333333333333, 'avg_feats_diff': 2.616727352142334}\n",
      "Epoch 3 -----------------------------------------------------\n",
      "{'accuracy': 0.76, 'avg_feats_diff': 2.1702187061309814}\n",
      "Epoch 4 -----------------------------------------------------\n",
      "{'accuracy': 0.7533333333333333, 'avg_feats_diff': 1.9730031490325928}\n",
      "Epoch 5 -----------------------------------------------------\n",
      "{'accuracy': 0.7666666666666667, 'avg_feats_diff': 2.434504270553589}\n",
      "Epoch 6 -----------------------------------------------------\n",
      "{'accuracy': 0.78, 'avg_feats_diff': 2.4179537296295166}\n",
      "Epoch 7 -----------------------------------------------------\n",
      "{'accuracy': 0.77, 'avg_feats_diff': 2.618016004562378}\n",
      "Epoch 8 -----------------------------------------------------\n",
      "{'accuracy': 0.7766666666666666, 'avg_feats_diff': 2.7965385913848877}\n",
      "Epoch 9 -----------------------------------------------------\n",
      "{'accuracy': 0.7733333333333333, 'avg_feats_diff': 2.7647314071655273}\n",
      "Epoch 10 -----------------------------------------------------\n",
      "{'accuracy': 0.76, 'avg_feats_diff': 1.9757258892059326}\n",
      "Epoch 11 -----------------------------------------------------\n",
      "{'accuracy': 0.7666666666666667, 'avg_feats_diff': 2.5048816204071045}\n",
      "Epoch 12 -----------------------------------------------------\n",
      "{'accuracy': 0.7733333333333333, 'avg_feats_diff': 3.1596338748931885}\n",
      "Epoch 13 -----------------------------------------------------\n",
      "{'accuracy': 0.7766666666666666, 'avg_feats_diff': 3.2310965061187744}\n",
      "Epoch 14 -----------------------------------------------------\n",
      "{'accuracy': 0.7666666666666667, 'avg_feats_diff': 2.563443899154663}\n",
      "Epoch 15 -----------------------------------------------------\n",
      "{'accuracy': 0.76, 'avg_feats_diff': 2.439361572265625}\n",
      "Epoch 16 -----------------------------------------------------\n",
      "{'accuracy': 0.7733333333333333, 'avg_feats_diff': 2.1897642612457275}\n",
      "Epoch 17 -----------------------------------------------------\n",
      "{'accuracy': 0.7633333333333333, 'avg_feats_diff': 1.7806143760681152}\n",
      "Epoch 18 -----------------------------------------------------\n",
      "{'accuracy': 0.76, 'avg_feats_diff': 1.5286962985992432}\n",
      "Epoch 19 -----------------------------------------------------\n",
      "{'accuracy': 0.7666666666666667, 'avg_feats_diff': 1.9320018291473389}\n",
      "Epoch 20 -----------------------------------------------------\n",
      "{'accuracy': 0.75, 'avg_feats_diff': 2.049100637435913}\n",
      "Epoch 21 -----------------------------------------------------\n",
      "{'accuracy': 0.7566666666666667, 'avg_feats_diff': 1.7015233039855957}\n",
      "Epoch 22 -----------------------------------------------------\n",
      "{'accuracy': 0.7766666666666666, 'avg_feats_diff': 2.0889251232147217}\n",
      "Epoch 23 -----------------------------------------------------\n",
      "{'accuracy': 0.7833333333333333, 'avg_feats_diff': 1.4740891456604004}\n",
      "Epoch 24 -----------------------------------------------------\n",
      "{'accuracy': 0.8066666666666666, 'avg_feats_diff': 1.4090654850006104}\n",
      "Epoch 25 -----------------------------------------------------\n",
      "{'accuracy': 0.8, 'avg_feats_diff': 1.482435703277588}\n",
      "Epoch 26 -----------------------------------------------------\n",
      "{'accuracy': 0.7666666666666667, 'avg_feats_diff': 1.6421456336975098}\n",
      "Epoch 27 -----------------------------------------------------\n",
      "{'accuracy': 0.7666666666666667, 'avg_feats_diff': 1.3702361583709717}\n",
      "Epoch 28 -----------------------------------------------------\n",
      "{'accuracy': 0.7933333333333333, 'avg_feats_diff': 1.379328727722168}\n",
      "Epoch 29 -----------------------------------------------------\n",
      "{'accuracy': 0.7633333333333333, 'avg_feats_diff': 1.2948968410491943}\n",
      "Epoch 30 -----------------------------------------------------\n",
      "{'accuracy': 0.7933333333333333, 'avg_feats_diff': 1.4925646781921387}\n",
      "Epoch 31 -----------------------------------------------------\n",
      "{'accuracy': 0.77, 'avg_feats_diff': 1.344123363494873}\n",
      "Epoch 32 -----------------------------------------------------\n",
      "{'accuracy': 0.7833333333333333, 'avg_feats_diff': 1.439897060394287}\n",
      "Epoch 33 -----------------------------------------------------\n",
      "{'accuracy': 0.8, 'avg_feats_diff': 1.5113115310668945}\n",
      "Epoch 34 -----------------------------------------------------\n",
      "{'accuracy': 0.7733333333333333, 'avg_feats_diff': 1.5963921546936035}\n",
      "Epoch 35 -----------------------------------------------------\n",
      "{'accuracy': 0.7966666666666666, 'avg_feats_diff': 1.4234178066253662}\n",
      "Epoch 36 -----------------------------------------------------\n",
      "{'accuracy': 0.7833333333333333, 'avg_feats_diff': 1.3978126049041748}\n",
      "Epoch 37 -----------------------------------------------------\n",
      "{'accuracy': 0.76, 'avg_feats_diff': 0.9367246031761169}\n",
      "Epoch 38 -----------------------------------------------------\n",
      "{'accuracy': 0.78, 'avg_feats_diff': 1.207519769668579}\n",
      "Epoch 39 -----------------------------------------------------\n",
      "{'accuracy': 0.7933333333333333, 'avg_feats_diff': 1.3274579048156738}\n",
      "Epoch 40 -----------------------------------------------------\n",
      "{'accuracy': 0.7866666666666666, 'avg_feats_diff': 1.338045358657837}\n",
      "Epoch 41 -----------------------------------------------------\n",
      "{'accuracy': 0.8033333333333333, 'avg_feats_diff': 1.3139028549194336}\n",
      "Epoch 42 -----------------------------------------------------\n",
      "{'accuracy': 0.81, 'avg_feats_diff': 1.393432855606079}\n",
      "Epoch 43 -----------------------------------------------------\n",
      "{'accuracy': 0.81, 'avg_feats_diff': 1.3601913452148438}\n",
      "Epoch 44 -----------------------------------------------------\n",
      "{'accuracy': 0.7866666666666666, 'avg_feats_diff': 1.2558221817016602}\n",
      "Epoch 45 -----------------------------------------------------\n",
      "{'accuracy': 0.79, 'avg_feats_diff': 1.3824799060821533}\n",
      "Epoch 46 -----------------------------------------------------\n",
      "{'accuracy': 0.7733333333333333, 'avg_feats_diff': 1.1045417785644531}\n",
      "Epoch 47 -----------------------------------------------------\n",
      "{'accuracy': 0.8033333333333333, 'avg_feats_diff': 1.2763786315917969}\n",
      "Epoch 48 -----------------------------------------------------\n",
      "{'accuracy': 0.79, 'avg_feats_diff': 1.2659077644348145}\n",
      "Epoch 49 -----------------------------------------------------\n",
      "{'accuracy': 0.81, 'avg_feats_diff': 1.4522597789764404}\n",
      "Epoch 50 -----------------------------------------------------\n",
      "{'accuracy': 0.81, 'avg_feats_diff': 1.5144858360290527}\n",
      "Epoch 51 -----------------------------------------------------\n",
      "{'accuracy': 0.81, 'avg_feats_diff': 0.8130699992179871}\n",
      "Epoch 52 -----------------------------------------------------\n",
      "{'accuracy': 0.7433333333333333, 'avg_feats_diff': 1.2934291362762451}\n",
      "Epoch 53 -----------------------------------------------------\n",
      "{'accuracy': 0.78, 'avg_feats_diff': 2.85544753074646}\n",
      "Epoch 54 -----------------------------------------------------\n",
      "{'accuracy': 0.7766666666666666, 'avg_feats_diff': 2.6162822246551514}\n",
      "Epoch 55 -----------------------------------------------------\n",
      "{'accuracy': 0.78, 'avg_feats_diff': 2.1933045387268066}\n",
      "Epoch 56 -----------------------------------------------------\n",
      "{'accuracy': 0.7733333333333333, 'avg_feats_diff': 2.193199396133423}\n",
      "Epoch 57 -----------------------------------------------------\n",
      "{'accuracy': 0.79, 'avg_feats_diff': 2.4689390659332275}\n",
      "Epoch 58 -----------------------------------------------------\n",
      "{'accuracy': 0.79, 'avg_feats_diff': 2.282602548599243}\n",
      "Epoch 59 -----------------------------------------------------\n",
      "{'accuracy': 0.7966666666666666, 'avg_feats_diff': 2.3953640460968018}\n",
      "Epoch 60 -----------------------------------------------------\n",
      "{'accuracy': 0.7833333333333333, 'avg_feats_diff': 2.647773265838623}\n",
      "Epoch 61 -----------------------------------------------------\n",
      "{'accuracy': 0.79, 'avg_feats_diff': 2.284592628479004}\n",
      "Epoch 62 -----------------------------------------------------\n",
      "{'accuracy': 0.7733333333333333, 'avg_feats_diff': 1.5817837715148926}\n",
      "Epoch 63 -----------------------------------------------------\n",
      "{'accuracy': 0.77, 'avg_feats_diff': 2.5814390182495117}\n",
      "Epoch 64 -----------------------------------------------------\n",
      "{'accuracy': 0.7833333333333333, 'avg_feats_diff': 2.4760806560516357}\n",
      "Epoch 65 -----------------------------------------------------\n",
      "{'accuracy': 0.7833333333333333, 'avg_feats_diff': 1.8820679187774658}\n",
      "Epoch 66 -----------------------------------------------------\n",
      "{'accuracy': 0.7533333333333333, 'avg_feats_diff': 0.9193338751792908}\n",
      "Epoch 67 -----------------------------------------------------\n",
      "{'accuracy': 0.7766666666666666, 'avg_feats_diff': 1.2637643814086914}\n",
      "Epoch 68 -----------------------------------------------------\n",
      "{'accuracy': 0.76, 'avg_feats_diff': 1.286752700805664}\n",
      "Epoch 69 -----------------------------------------------------\n",
      "{'accuracy': 0.7466666666666667, 'avg_feats_diff': 1.5578954219818115}\n",
      "Epoch 70 -----------------------------------------------------\n",
      "{'accuracy': 0.79, 'avg_feats_diff': 2.4051496982574463}\n",
      "Epoch 71 -----------------------------------------------------\n",
      "{'accuracy': 0.7866666666666666, 'avg_feats_diff': 2.422750473022461}\n",
      "Epoch 72 -----------------------------------------------------\n",
      "{'accuracy': 0.79, 'avg_feats_diff': 1.5514891147613525}\n",
      "Epoch 73 -----------------------------------------------------\n",
      "{'accuracy': 0.8066666666666666, 'avg_feats_diff': 1.9289886951446533}\n",
      "Epoch 74 -----------------------------------------------------\n",
      "{'accuracy': 0.79, 'avg_feats_diff': 1.502171516418457}\n",
      "Epoch 75 -----------------------------------------------------\n",
      "{'accuracy': 0.8033333333333333, 'avg_feats_diff': 2.1108663082122803}\n",
      "Epoch 76 -----------------------------------------------------\n",
      "{'accuracy': 0.8, 'avg_feats_diff': 1.5019891262054443}\n",
      "Epoch 77 -----------------------------------------------------\n",
      "{'accuracy': 0.7866666666666666, 'avg_feats_diff': 1.568866491317749}\n",
      "Epoch 78 -----------------------------------------------------\n",
      "{'accuracy': 0.8033333333333333, 'avg_feats_diff': 1.415816068649292}\n",
      "Epoch 79 -----------------------------------------------------\n",
      "{'accuracy': 0.8, 'avg_feats_diff': 1.5674324035644531}\n",
      "Epoch 80 -----------------------------------------------------\n",
      "{'accuracy': 0.8133333333333334, 'avg_feats_diff': 1.2125697135925293}\n",
      "Epoch 81 -----------------------------------------------------\n",
      "{'accuracy': 0.8133333333333334, 'avg_feats_diff': 1.251464605331421}\n",
      "Epoch 82 -----------------------------------------------------\n",
      "{'accuracy': 0.7966666666666666, 'avg_feats_diff': 1.5284407138824463}\n",
      "Epoch 83 -----------------------------------------------------\n",
      "{'accuracy': 0.82, 'avg_feats_diff': 0.8572654128074646}\n",
      "Epoch 84 -----------------------------------------------------\n",
      "{'accuracy': 0.82, 'avg_feats_diff': 1.7036056518554688}\n",
      "Epoch 85 -----------------------------------------------------\n",
      "{'accuracy': 0.7933333333333333, 'avg_feats_diff': 1.345536470413208}\n",
      "Epoch 86 -----------------------------------------------------\n",
      "{'accuracy': 0.81, 'avg_feats_diff': 1.3698608875274658}\n",
      "Epoch 87 -----------------------------------------------------\n",
      "{'accuracy': 0.81, 'avg_feats_diff': 1.2633955478668213}\n",
      "Epoch 88 -----------------------------------------------------\n",
      "{'accuracy': 0.83, 'avg_feats_diff': 1.3850679397583008}\n",
      "Epoch 89 -----------------------------------------------------\n",
      "{'accuracy': 0.7966666666666666, 'avg_feats_diff': 1.2642993927001953}\n",
      "Epoch 90 -----------------------------------------------------\n",
      "{'accuracy': 0.7966666666666666, 'avg_feats_diff': 0.9647335410118103}\n",
      "Epoch 91 -----------------------------------------------------\n",
      "{'accuracy': 0.8166666666666667, 'avg_feats_diff': 1.202702522277832}\n",
      "Epoch 92 -----------------------------------------------------\n",
      "{'accuracy': 0.8166666666666667, 'avg_feats_diff': 1.319976568222046}\n",
      "Epoch 93 -----------------------------------------------------\n",
      "{'accuracy': 0.7933333333333333, 'avg_feats_diff': 0.8813636898994446}\n",
      "Epoch 94 -----------------------------------------------------\n",
      "{'accuracy': 0.82, 'avg_feats_diff': 1.1842427253723145}\n",
      "Epoch 95 -----------------------------------------------------\n",
      "{'accuracy': 0.8266666666666667, 'avg_feats_diff': 0.6911671757698059}\n",
      "Epoch 96 -----------------------------------------------------\n",
      "{'accuracy': 0.8133333333333334, 'avg_feats_diff': 1.1871142387390137}\n",
      "Epoch 97 -----------------------------------------------------\n",
      "{'accuracy': 0.8, 'avg_feats_diff': 1.0015106201171875}\n",
      "Epoch 98 -----------------------------------------------------\n",
      "{'accuracy': 0.8033333333333333, 'avg_feats_diff': 1.143350601196289}\n",
      "Epoch 99 -----------------------------------------------------\n",
      "{'accuracy': 0.8233333333333334, 'avg_feats_diff': 0.8887487053871155}\n",
      "Epoch 100 -----------------------------------------------------\n",
      "{'accuracy': 0.8366666666666667, 'avg_feats_diff': 0.8517904877662659}\n",
      "Epoch 101 -----------------------------------------------------\n",
      "{'accuracy': 0.8366666666666667, 'avg_feats_diff': 0.3833199143409729}\n",
      "Epoch 102 -----------------------------------------------------\n",
      "{'accuracy': 0.8366666666666667, 'avg_feats_diff': 0.7402275204658508}\n",
      "Epoch 103 -----------------------------------------------------\n",
      "{'accuracy': 0.81, 'avg_feats_diff': 0.7912741303443909}\n",
      "Epoch 104 -----------------------------------------------------\n",
      "{'accuracy': 0.8266666666666667, 'avg_feats_diff': 0.7569532990455627}\n",
      "Epoch 105 -----------------------------------------------------\n",
      "{'accuracy': 0.7966666666666666, 'avg_feats_diff': 1.3287220001220703}\n",
      "Epoch 106 -----------------------------------------------------\n",
      "{'accuracy': 0.81, 'avg_feats_diff': 1.242401361465454}\n",
      "Epoch 107 -----------------------------------------------------\n",
      "{'accuracy': 0.8166666666666667, 'avg_feats_diff': 1.311180830001831}\n",
      "Epoch 108 -----------------------------------------------------\n",
      "{'accuracy': 0.81, 'avg_feats_diff': 1.2992949485778809}\n",
      "Epoch 109 -----------------------------------------------------\n",
      "{'accuracy': 0.8333333333333334, 'avg_feats_diff': 1.061612606048584}\n",
      "Epoch 110 -----------------------------------------------------\n",
      "{'accuracy': 0.8233333333333334, 'avg_feats_diff': 0.9122536778450012}\n",
      "Epoch 111 -----------------------------------------------------\n",
      "{'accuracy': 0.8266666666666667, 'avg_feats_diff': 0.6967402100563049}\n",
      "Epoch 112 -----------------------------------------------------\n",
      "{'accuracy': 0.8266666666666667, 'avg_feats_diff': 0.949863851070404}\n",
      "Epoch 113 -----------------------------------------------------\n",
      "{'accuracy': 0.84, 'avg_feats_diff': 0.6377901434898376}\n",
      "Epoch 114 -----------------------------------------------------\n",
      "{'accuracy': 0.8433333333333334, 'avg_feats_diff': 0.32597458362579346}\n",
      "Epoch 115 -----------------------------------------------------\n",
      "{'accuracy': 0.8466666666666667, 'avg_feats_diff': 0.8209443688392639}\n",
      "Epoch 116 -----------------------------------------------------\n",
      "{'accuracy': 0.8533333333333334, 'avg_feats_diff': 0.1972198486328125}\n",
      "Epoch 117 -----------------------------------------------------\n",
      "{'accuracy': 0.8733333333333333, 'avg_feats_diff': 0.44780927896499634}\n",
      "Epoch 118 -----------------------------------------------------\n",
      "{'accuracy': 0.87, 'avg_feats_diff': 0.4064691662788391}\n",
      "Epoch 119 -----------------------------------------------------\n",
      "{'accuracy': 0.8633333333333333, 'avg_feats_diff': 0.29685312509536743}\n",
      "Epoch 120 -----------------------------------------------------\n",
      "{'accuracy': 0.8733333333333333, 'avg_feats_diff': 0.2317846417427063}\n",
      "Epoch 121 -----------------------------------------------------\n",
      "{'accuracy': 0.8633333333333333, 'avg_feats_diff': 0.2466251254081726}\n",
      "Epoch 122 -----------------------------------------------------\n",
      "{'accuracy': 0.8533333333333334, 'avg_feats_diff': 0.44409888982772827}\n",
      "Epoch 123 -----------------------------------------------------\n",
      "{'accuracy': 0.7733333333333333, 'avg_feats_diff': 0.07253974676132202}\n",
      "Epoch 124 -----------------------------------------------------\n",
      "{'accuracy': 0.8033333333333333, 'avg_feats_diff': 0.3713611364364624}\n",
      "Epoch 125 -----------------------------------------------------\n",
      "{'accuracy': 0.8033333333333333, 'avg_feats_diff': 0.36399221420288086}\n",
      "Epoch 126 -----------------------------------------------------\n",
      "{'accuracy': 0.8266666666666667, 'avg_feats_diff': 0.13930654525756836}\n",
      "Epoch 127 -----------------------------------------------------\n",
      "{'accuracy': 0.82, 'avg_feats_diff': 0.721256673336029}\n",
      "Epoch 128 -----------------------------------------------------\n",
      "{'accuracy': 0.87, 'avg_feats_diff': 0.4034258723258972}\n",
      "Epoch 129 -----------------------------------------------------\n",
      "{'accuracy': 0.84, 'avg_feats_diff': 0.27928096055984497}\n",
      "Epoch 130 -----------------------------------------------------\n",
      "{'accuracy': 0.8533333333333334, 'avg_feats_diff': 0.4230380654335022}\n",
      "Epoch 131 -----------------------------------------------------\n",
      "{'accuracy': 0.88, 'avg_feats_diff': 0.21674203872680664}\n",
      "Epoch 132 -----------------------------------------------------\n",
      "{'accuracy': 0.8833333333333333, 'avg_feats_diff': 0.1571568250656128}\n",
      "Epoch 133 -----------------------------------------------------\n",
      "{'accuracy': 0.8933333333333333, 'avg_feats_diff': 0.09844422340393066}\n",
      "Epoch 134 -----------------------------------------------------\n",
      "{'accuracy': 0.87, 'avg_feats_diff': 0.37134701013565063}\n",
      "Epoch 135 -----------------------------------------------------\n",
      "{'accuracy': 0.86, 'avg_feats_diff': 0.25885170698165894}\n",
      "Epoch 136 -----------------------------------------------------\n",
      "{'accuracy': 0.85, 'avg_feats_diff': 0.2074928879737854}\n",
      "Epoch 137 -----------------------------------------------------\n",
      "{'accuracy': 0.83, 'avg_feats_diff': 0.343156099319458}\n",
      "Epoch 138 -----------------------------------------------------\n",
      "{'accuracy': 0.8633333333333333, 'avg_feats_diff': 0.154285728931427}\n",
      "Epoch 139 -----------------------------------------------------\n",
      "{'accuracy': 0.8433333333333334, 'avg_feats_diff': 0.12137174606323242}\n",
      "Epoch 140 -----------------------------------------------------\n",
      "{'accuracy': 0.8433333333333334, 'avg_feats_diff': 0.7721074819564819}\n",
      "Epoch 141 -----------------------------------------------------\n",
      "{'accuracy': 0.88, 'avg_feats_diff': 0.23600655794143677}\n",
      "Epoch 142 -----------------------------------------------------\n",
      "{'accuracy': 0.8566666666666667, 'avg_feats_diff': 0.04854226112365723}\n",
      "Epoch 143 -----------------------------------------------------\n",
      "{'accuracy': 0.8466666666666667, 'avg_feats_diff': 0.6223841309547424}\n",
      "Epoch 144 -----------------------------------------------------\n",
      "{'accuracy': 0.8366666666666667, 'avg_feats_diff': 0.27650439739227295}\n",
      "Epoch 145 -----------------------------------------------------\n",
      "{'accuracy': 0.84, 'avg_feats_diff': 0.0768088698387146}\n",
      "Epoch 146 -----------------------------------------------------\n",
      "{'accuracy': 0.7833333333333333, 'avg_feats_diff': 0.09783697128295898}\n",
      "Epoch 147 -----------------------------------------------------\n",
      "{'accuracy': 0.8233333333333334, 'avg_feats_diff': 0.4184046983718872}\n",
      "Epoch 148 -----------------------------------------------------\n",
      "{'accuracy': 0.8466666666666667, 'avg_feats_diff': 0.12201857566833496}\n",
      "Epoch 149 -----------------------------------------------------\n",
      "{'accuracy': 0.8466666666666667, 'avg_feats_diff': 0.10503816604614258}\n",
      "Epoch 150 -----------------------------------------------------\n",
      "{'accuracy': 0.8833333333333333, 'avg_feats_diff': 0.25335341691970825}\n",
      "Epoch 151 -----------------------------------------------------\n",
      "{'accuracy': 0.8566666666666667, 'avg_feats_diff': 0.10548615455627441}\n",
      "Epoch 152 -----------------------------------------------------\n",
      "{'accuracy': 0.89, 'avg_feats_diff': 0.4146639108657837}\n"
     ]
    }
   ],
   "source": [
    "trial_number = best_trials_numbers[0]\n",
    "\n",
    "params = study.trials[trial_number].params\n",
    "device = 'cuda' if torch.cuda.is_available() else 'cpu'\n",
    "\n",
    "hidden_size = params['hidden_size']\n",
    "n_layers = params['n_layers']\n",
    "model = LSTMClassifier(num_features, hidden_size, 1, n_layers).to(device)\n",
    "\n",
    "lr = params['lr']\n",
    "optimizer_name = params['optimizer']\n",
    "optimizer = getattr(optim, optimizer_name)(model.parameters(), lr=lr)\n",
    "\n",
    "batch_size = params['batch_size']\n",
    "train_loader = DataLoader(train_set, batch_size=batch_size, shuffle=True, num_workers=4)\n",
    "test_loader = DataLoader(test_set, batch_size=batch_size, shuffle=False, num_workers=4)\n",
    "\n",
    "X_test_tensor = test_set.tensors[0].to(device)\n",
    "\n",
    "if 'avg_feats_diff' in metrics:\n",
    "    train_features_mean = get_features_mean(X_train_tensor, y_train_tensor).to(device)\n",
    "\n",
    "loss_fn = nn.BCEWithLogitsLoss(\n",
    "    pos_weight=torch.tensor(weights[1], dtype=torch.float32)\n",
    ")\n",
    "\n",
    "epochs = params['n_epochs']\n",
    "\n",
    "for epoch in tqdm(range(epochs)):\n",
    "    print(f\"Epoch {epoch} -----------------------------------------------------\")\n",
    "    train_step(model, train_loader, loss_fn, optimizer)\n",
    "    \n",
    "    logits = model(X_test_tensor)\n",
    "    y_valid_pred = predict(logits, loss_fn).squeeze()\n",
    "\n",
    "    metrics_kwargs = {}\n",
    "    if 'avg_feats_diff' in metrics:\n",
    "        metrics_kwargs['X_valid'] = X_test_tensor\n",
    "        metrics_kwargs['train_features_mean'] = train_features_mean\n",
    "    if 'f_beta_score' in metrics:\n",
    "        metrics_kwargs['beta'] = kwargs['beta']\n",
    "    metrics_values = compute_metrics(metrics, y_test_tensor, y_valid_pred, **metrics_kwargs)\n",
    "    print(metrics_values)\n",
    "\n",
    "    mlflow.log_metrics(metrics_values)"
   ]
  },
  {
   "cell_type": "code",
   "execution_count": 34,
   "metadata": {},
   "outputs": [],
   "source": [
    "model.to('cpu')\n",
    "\n",
    "y_test_pred = model(X_test_tensor)\n",
    "y_test_pred = predict(y_test_pred, loss_fn).squeeze()"
   ]
  },
  {
   "cell_type": "code",
   "execution_count": 37,
   "metadata": {},
   "outputs": [
    {
     "data": {
      "image/png": "[encoded data removed]",
      "text/plain": [
       "<Figure size 640x480 with 2 Axes>"
      ]
     },
     "metadata": {},
     "output_type": "display_data"
    }
   ],
   "source": [
    "fig = confusion_matrix_plot(y_test_tensor, y_test_pred)\n",
    "\n",
    "with tempfile.TemporaryDirectory() as tmpdir:\n",
    "    file_path = os.path.join(tmpdir, \"confusion_matrix_plot.png\")\n",
    "    fig.savefig(file_path)\n",
    "    mlflow.log_artifact(file_path)\n",
    "\n",
    "fig.show()"
   ]
  }
 ],
 "metadata": {
  "colab": {
   "provenance": [],
   "toc_visible": true
  },
  "kernelspec": {
   "display_name": "TrabajoFinal",
   "language": "python",
   "name": "python3"
  },
  "language_info": {
   "codemirror_mode": {
    "name": "ipython",
    "version": 3
   },
   "file_extension": ".py",
   "mimetype": "text/x-python",
   "name": "python",
   "nbconvert_exporter": "python",
   "pygments_lexer": "ipython3",
   "version": "3.12.7"
  }
 },
 "nbformat": 4,
 "nbformat_minor": 0
}
