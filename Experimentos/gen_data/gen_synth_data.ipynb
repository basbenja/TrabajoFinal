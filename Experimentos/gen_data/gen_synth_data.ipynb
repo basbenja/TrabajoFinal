{
 "cells": [
  {
   "cell_type": "markdown",
   "metadata": {},
   "source": [
    "### **Librerías**"
   ]
  },
  {
   "cell_type": "code",
   "execution_count": null,
   "metadata": {},
   "outputs": [],
   "source": [
    "import json\n",
    "import numpy as np\n",
    "import os\n",
    "import pandas as pd\n",
    "import pprint as pp\n",
    "import re\n",
    "import stata_setup\n",
    "import sys\n",
    "sys.path.append(os.path.dirname(os.getcwd()))\n",
    "\n",
    "from constants import DATA_DIR, STATA_PATH\n",
    "\n",
    "from statsmodels.tsa.arima_process import arma_generate_sample\n",
    "\n",
    "# np.random.seed(12361)  # Semilla 2023\n",
    "# np.random.seed(345827) # Semilla 2024"
   ]
  },
  {
   "cell_type": "markdown",
   "metadata": {},
   "source": [
    "### **Directorio base de los datos**"
   ]
  },
  {
   "cell_type": "code",
   "execution_count": null,
   "metadata": {},
   "outputs": [],
   "source": [
    "if not os.path.exists(DATA_DIR):\n",
    "    os.makedirs(DATA_DIR)\n",
    "else:\n",
    "    print(f\"The directory {DATA_DIR} already exists\")"
   ]
  },
  {
   "cell_type": "markdown",
   "metadata": {},
   "source": [
    "### **Configuramos Stata**"
   ]
  },
  {
   "cell_type": "code",
   "execution_count": null,
   "metadata": {},
   "outputs": [],
   "source": [
    "stata_setup.config(STATA_PATH, 'mp', splash=True)"
   ]
  },
  {
   "cell_type": "markdown",
   "metadata": {},
   "source": [
    "### **Número de grupo**"
   ]
  },
  {
   "cell_type": "code",
   "execution_count": null,
   "metadata": {},
   "outputs": [],
   "source": [
    "# Get the number of the last group generated\n",
    "groups_dirs = [d for d in os.listdir(DATA_DIR) if os.path.isdir(os.path.join(DATA_DIR, d))]\n",
    "pattern = r'Grupo(\\d+)'\n",
    "\n",
    "numbers = []\n",
    "for dir in groups_dirs:\n",
    "    match = re.search(pattern, dir)\n",
    "    if match:\n",
    "        numbers.append(int(match.group(1)))\n",
    "\n",
    "if numbers:\n",
    "    group_number = max(numbers) + 1\n",
    "    print(f\"The new group number is: {group_number}\")\n",
    "else:\n",
    "    print(\"No folders with the pattern 'GrupoN' found. Setting it to 1...\")\n",
    "    group_number = 1\n",
    "\n",
    "GROUP_PATH = os.path.join(DATA_DIR, f\"Grupo{group_number}\")\n",
    "print(f\"Creating the group directory: {GROUP_PATH}\")\n",
    "os.makedirs(GROUP_PATH)"
   ]
  },
  {
   "cell_type": "markdown",
   "metadata": {},
   "source": [
    "### **Parámetros**\n",
    "Para más información sobre qué representa cada parámetro, leer el archivo `README.md` de este directorio."
   ]
  },
  {
   "cell_type": "markdown",
   "metadata": {},
   "source": [
    "#### **Parámetros fijos**"
   ]
  },
  {
   "cell_type": "code",
   "execution_count": null,
   "metadata": {},
   "outputs": [],
   "source": [
    "ini = 200\n",
    "\n",
    "phiNini = 0.90\n",
    "phiT = 0.90\n",
    "phiC = 0.90\n",
    "phiTra = 0.90\n",
    "MeanFEN = 10.0\n",
    "MeanFET = 10.0\n",
    "MeanFEC = 10.0\n",
    "\n",
    "NivelN = MeanFEN\n",
    "NivelT = MeanFET\n",
    "NivelC = MeanFEC\n",
    "ImpactoProporcional = 0.05\n",
    "ImpactoNominal = NivelC * ImpactoProporcional\n",
    "STDImpacto = 0.05\n",
    "\n",
    "dependence = True\n",
    "\n",
    "porcentaje  = 0.05\n",
    "hetecohorte = 1\n",
    "\n",
    "StdErrorSerie = 5"
   ]
  },
  {
   "cell_type": "markdown",
   "metadata": {},
   "source": [
    "#### **Cargamos parámetros variables**"
   ]
  },
  {
   "cell_type": "code",
   "execution_count": null,
   "metadata": {},
   "outputs": [],
   "source": [
    "PARAMS_PATH = os.path.join(os.getcwd(), 'params.json')\n",
    "with open(PARAMS_PATH, 'r') as f:\n",
    "    params = json.load(f)\n",
    "\n",
    "n_simulations = params['n_simulations']\n",
    "\n",
    "n_total = params['n_total']\n",
    "treated_pctg = params['treated_pctg']\n",
    "control_pctg = params['control_pctg']\n",
    "\n",
    "n_treated = round(treated_pctg * n_total)\n",
    "n_control = n_treated\n",
    "n = n_treated + n_control\n",
    "n_nini = n_total - n\n",
    "\n",
    "T = params['T']\n",
    "total_periods = T + ini\n",
    "first_tr_period = params['first_tr_period']\n",
    "\n",
    "n_cohorts = params['n_cohorts']\n",
    "n_per_dep = params['n_per_dep']\n",
    "\n",
    "if n_per_dep > first_tr_period:\n",
    "    raise Exception(\n",
    "        \"The number of depending periods is greater than the first treatment period.\"\n",
    "        \"Please correct it.\"\n",
    "    )\n",
    "\n",
    "pp.pp(params)"
   ]
  },
  {
   "cell_type": "markdown",
   "metadata": {},
   "source": [
    "Escribimos los parámetros usados a la carpeta del nuevo grupo."
   ]
  },
  {
   "cell_type": "code",
   "execution_count": null,
   "metadata": {},
   "outputs": [],
   "source": [
    "params[\"group_number\"] = group_number\n",
    "group_params_path = os.path.join(GROUP_PATH, f\"params_Grupo{group_number}.json\")\n",
    "with open(group_params_path, \"w\") as f:\n",
    "    json.dump(params, f, indent=4)"
   ]
  },
  {
   "cell_type": "code",
   "execution_count": null,
   "metadata": {},
   "outputs": [],
   "source": [
    "def gen_time_series_upw_trend(\n",
    "    steps, n_per_dep, fixed_effect, temp_effect, treatment_start\n",
    "):\n",
    "    y = np.zeros(steps)\n",
    "    y[0] = (\n",
    "        MeanFET + fixed_effect + temp_effect + np.random.normal(0, 1) * StdErrorSerie\n",
    "    )\n",
    "\n",
    "    trend_start = treatment_start - n_per_dep\n",
    "    for t in range(1, steps):\n",
    "        next_value = (\n",
    "            (1 - phiT) * (MeanFET + fixed_effect + temp_effect) + phiT * y[t - 1]\n",
    "            + np.random.normal(0, 1) * StdErrorSerie\n",
    "        )\n",
    "        if t > trend_start and t < treatment_start:\n",
    "            # Generate next value so that it is greater than the previous one\n",
    "            while next_value <= y[t-1]:\n",
    "                next_value = (\n",
    "                    (1 - phiT) * (MeanFET + fixed_effect + temp_effect) + phiT * y[t-1]\n",
    "                    + np.random.normal(0, 1) * StdErrorSerie\n",
    "                )\n",
    "        y[t] = next_value\n",
    "\n",
    "    return y"
   ]
  },
  {
   "cell_type": "code",
   "execution_count": null,
   "metadata": {},
   "outputs": [],
   "source": [
    "# Variable evolution matrix for treated\n",
    "# NOTE: is the same matrix for all simulations\n",
    "YPanelTreated = np.zeros(shape=(n_simulations*n_treated*T, 9))\n",
    "\n",
    "# Variable evolution matrix for control\n",
    "# NOTE: is the same matrix for all simulations\n",
    "YPanelControl = np.zeros(shape=(n_simulations*n_control*T, 9))\n",
    "\n",
    "# Variable evolution matrix for nini\n",
    "# NOTE: is the same matrix for all simulations\n",
    "YPanelNiNi = np.zeros(shape=(n_simulations*n_nini*T, 9))"
   ]
  },
  {
   "cell_type": "code",
   "execution_count": null,
   "metadata": {},
   "outputs": [],
   "source": [
    "for sim in range(n_simulations):\n",
    "    print(f\"Simulación {sim+1} de {n_simulations}\")\n",
    "\n",
    "    # A time effect, one for each time step\n",
    "    EfectoTemporalT = np.random.normal(0,1,T+ini)\n",
    "    EfectoTemporalTMedio = EfectoTemporalT.mean()\n",
    "\n",
    "    y_treated = np.zeros(shape=(n_treated, T))\n",
    "    y_control = np.zeros(shape=(n_control, T))\n",
    "    tr_starts_indexes = []\n",
    "\n",
    "    # Amount of treated units per cohort\n",
    "    n_treated_in_cohort = int(n_treated / n_cohorts)\n",
    "\n",
    "    for dataset, label in [(y_treated, 'Tratados'), (y_control, 'Controles')]:\n",
    "        print(f\"Generando datos para {label}...\")\n",
    "        # A fixed effect for each unit\n",
    "        EfectoFijoT = np.random.normal(0, 1, len(dataset)) + MeanFET\n",
    "        for cohort in range(n_cohorts):\n",
    "            # Subtract 1 to turn it 0-indexed\n",
    "            tr_start_index = (ini + first_tr_period + cohort) - 1\n",
    "            print(\n",
    "                f\"    Cohorte {cohort+1} de {n_cohorts}: \"\n",
    "                f\"inicio de programa en {tr_start_index+1-ini}.\"\n",
    "            )\n",
    "            for i in range(n_treated_in_cohort):\n",
    "                y_i = gen_time_series_upw_trend(\n",
    "                    total_periods, n_per_dep, EfectoFijoT[i], EfectoTemporalTMedio,\n",
    "                    tr_start_index\n",
    "                )\n",
    "                tr_starts_indexes.append(tr_start_index-ini)\n",
    "                dataset[(cohort*n_treated_in_cohort) + i, :] = y_i[ini:]\n",
    "        print()\n",
    "\n",
    "    y_counterfac = y_treated.copy()\n",
    "\n",
    "    # Apply treatment only to the treated units\n",
    "    for i in range(n_treated):\n",
    "        tr_start_index = tr_starts_indexes[i]\n",
    "        tr_length = T - tr_start_index\n",
    "        if hetecohorte == 1:\n",
    "            arparams = np.array([phiTra, 0])\n",
    "            maparams = np.array([0, 0])\n",
    "            arparams = np.r_[1, -arparams]\n",
    "            maparams = np.r_[1, maparams]\n",
    "            impact = arma_generate_sample(\n",
    "                arparams, maparams, tr_length, burnin=5000\n",
    "            ) + ImpactoNominal\n",
    "            y_treated[i, tr_start_index:] += impact\n",
    "        else:\n",
    "            TraCondicion = np.array(tr_starts_indexes)\n",
    "            y_treated[i, tr_start_index:] += np.random.normal(\n",
    "                ImpactoNominal, STDImpacto, tr_length\n",
    "            )\n",
    "            TraCondicion = np.array(tr_starts_indexes)\n",
    "\n",
    "    # Reshape the data from horizontal to vertical format with extra columns\n",
    "    for panel, dataset, label in [\n",
    "        (YPanelTreated, y_treated, 'Tratados'),\n",
    "        (YPanelControl, y_control, 'Controles')\n",
    "    ]:\n",
    "        print(f\"Cambiando formato de datos para {label}...\")\n",
    "        n = len(dataset)\n",
    "        panel[(sim*(n*T)):((n*T)*(sim+1)), 0] = sim + 1\n",
    "        panel[(sim*(n*T)):((n*T)*(sim+1)), 5] = int(label == 'Tratados')\n",
    "        panel[(sim*(n*T)):((n*T)*(sim+1)), 6] = int(label == 'Controles')\n",
    "        panel[(sim*(n*T)):((n*T)*(sim+1)), 7] = 0   # Columna NiNi\n",
    "\n",
    "        ids = np.zeros((n*T, 1))\n",
    "        tr_starts = np.zeros((n*T, 1))\n",
    "        steps = np.zeros((n*T, 1))\n",
    "        y = np.zeros((n*T, 1))\n",
    "        y_cf = np.zeros((n*T, 1))\n",
    "        for i in range(n):\n",
    "            ids[(i*T):((i+1)*T)] = i if label == 'Tratados' else i + n_treated\n",
    "            tr_starts[(i*T):((i+1)*T)] = tr_starts_indexes[i]\n",
    "            steps[(i*T):((i+1)*T)] = np.arange(T).reshape(T, 1)\n",
    "            y[(i*T):((i+1)*T)] = np.reshape(dataset[i,:], (T, 1))\n",
    "            y_cf[(i*T):((i+1)*T)] = (\n",
    "                np.reshape(y_counterfac[i,:], (T, 1)) if label == 'Tratados' else 0\n",
    "            )\n",
    "\n",
    "        panel[(sim*(n*T)):((n*T)*(sim+1)), 1] = np.reshape(ids, (n*T,))\n",
    "        panel[(sim*(n*T)):((n*T)*(sim+1)), 4] = np.reshape(tr_starts, (n*T,))\n",
    "        panel[(sim*(n*T)):((n*T)*(sim+1)), 2] = np.reshape(steps, (n*T,))\n",
    "        panel[(sim*(n*T)):((n*T)*(sim+1)), 3] = np.reshape(y, (n*T,))\n",
    "        panel[(sim*(n*T)):((n*T)*(sim+1)), 8] = np.reshape(y_cf, (n*T,))\n",
    "\n",
    "\n",
    "    # Generate the data for the nini group\n",
    "    y_nini = np.zeros(shape=(n_nini, T))\n",
    "    EfectoFijoT = np.random.normal(0, 1, n_nini) + MeanFEN\n",
    "\n",
    "    print(f\"Generando datos para NiNi...\")\n",
    "    for i in range(n_nini):\n",
    "        y_i = np.zeros(total_periods)\n",
    "        y_i[0] = (\n",
    "            MeanFEN + EfectoFijoT[i] + EfectoTemporalTMedio\n",
    "            + np.random.normal(0,1) * StdErrorSerie\n",
    "        )\n",
    "        for t in range(total_periods):\n",
    "            y_i[t] = (\n",
    "                (1-phiNini) * (MeanFEN + EfectoFijoT[i] + EfectoTemporalTMedio)\n",
    "                + phiNini * y_i[t - 1] + np.random.normal(0, 1) * StdErrorSerie\n",
    "            )\n",
    "        y_nini[i,:] = y_i[ini:]\n",
    "\n",
    "    # Reshape the data from horizontal to vertical format with extra columns\n",
    "    print(f\"Cambiando formato de datos para NiNi...\")\n",
    "    n = n_nini\n",
    "    YPanelNiNi[(sim*(n*T)):((n*T)*(sim+1)), 0] = sim + 1\n",
    "    YPanelNiNi[(sim*(n*T)):((n*T)*(sim+1)), 4] = 0 # Columna IniTratamiento\n",
    "    YPanelNiNi[(sim*(n*T)):((n*T)*(sim+1)), 5] = 0 # Columna Tratado\n",
    "    YPanelNiNi[(sim*(n*T)):((n*T)*(sim+1)), 6] = 0 # Columna Control\n",
    "    YPanelNiNi[(sim*(n*T)):((n*T)*(sim+1)), 7] = 1\n",
    "\n",
    "    ids = np.zeros((n*T, 1))\n",
    "    steps = np.zeros((n*T, 1))\n",
    "    y = np.zeros((n*T, 1))\n",
    "    for i in range(n):\n",
    "        ids[(i*T):((i+1)*T)] = i + (n_treated + n_control)\n",
    "        steps[(i*T):((i+1)*T)] = np.arange(T).reshape(T, 1)\n",
    "        y[(i*T):((i+1)*T)] = np.reshape(y_nini[i,:], (T, 1))\n",
    "\n",
    "    YPanelNiNi[(sim*(n*T)):((n*T)*(sim+1)), 1] = np.reshape(ids, (n*T,))\n",
    "    YPanelNiNi[(sim*(n*T)):((n*T)*(sim+1)), 2] = np.reshape(steps, (n*T,))\n",
    "    YPanelNiNi[(sim*(n*T)):((n*T)*(sim+1)), 3] = np.reshape(y, (n*T,))\n",
    "\n",
    "    print()"
   ]
  },
  {
   "cell_type": "code",
   "execution_count": null,
   "metadata": {},
   "outputs": [],
   "source": [
    "# Pasamos el numpy array a un dataframe en short format\n",
    "columns = ['SimCase', 'id', 't', 'y', 'inicio_prog', 'Tratado', 'Control', 'Nini', 'y_cf']\n",
    "\n",
    "df_treated = pd.DataFrame(YPanelTreated, columns=columns)\n",
    "df_control = pd.DataFrame(YPanelControl, columns=columns)\n",
    "df_nini = pd.DataFrame(YPanelNiNi, columns=columns)\n",
    "\n",
    "df = pd.concat([df_treated, df_control, df_nini])"
   ]
  },
  {
   "cell_type": "code",
   "execution_count": null,
   "metadata": {},
   "outputs": [],
   "source": [
    "# Guardamos el dataframe en un archivo csvs\n",
    "filename = (\n",
    "    'dependence=' + str(dependence) + '-cohorts=' + str(n_cohorts) +\n",
    "    '-T=' + str(T) + '-n=' + str(n_total) + '-M='+ str(n_simulations) + '.csv'\n",
    ")\n",
    "CSV_PATH = os.path.join(GROUP_PATH, filename)\n",
    "df.to_csv(CSV_PATH, index=False)"
   ]
  },
  {
   "cell_type": "code",
   "execution_count": null,
   "metadata": {},
   "outputs": [],
   "source": [
    "from pystata import stata\n",
    "\n",
    "stata.run(f'''\n",
    "import delimited \"{CSV_PATH}\", clear\n",
    "\n",
    "forvalues i=1/{n_simulations} {{\n",
    "    preserve\n",
    "    keep if simcase == `i'\n",
    "    generate tipo = 1 if tratado == 1\n",
    "    replace tipo = 2 if control == 1\n",
    "    replace tipo = 3 if nini == 1\n",
    "    drop nini\n",
    "    drop tratado\n",
    "    drop control\n",
    "    save \"{GROUP_PATH}/Simulacion`i'.dta\", replace\n",
    "    restore\n",
    "}}\n",
    "''')"
   ]
  }
 ],
 "metadata": {
  "kernelspec": {
   "display_name": "tf-gen-data",
   "language": "python",
   "name": "python3"
  },
  "language_info": {
   "codemirror_mode": {
    "name": "ipython",
    "version": 3
   },
   "file_extension": ".py",
   "mimetype": "text/x-python",
   "name": "python",
   "nbconvert_exporter": "python",
   "pygments_lexer": "ipython3",
   "version": "3.12.3"
  }
 },
 "nbformat": 4,
 "nbformat_minor": 2
}
