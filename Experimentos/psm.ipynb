{
 "cells": [
  {
   "cell_type": "markdown",
   "id": "4ef4499c",
   "metadata": {},
   "source": [
    "### **Importación de Librerías**"
   ]
  },
  {
   "cell_type": "code",
   "execution_count": null,
   "id": "c47f65ec",
   "metadata": {},
   "outputs": [],
   "source": [
    "import json\n",
    "import os\n",
    "import pandas as pd\n",
    "import pprint\n",
    "import sys\n",
    "\n",
    "from constants import *\n",
    "from utils.mlflow_logger import MLflowLogger\n",
    "from utils.load_data import transform\n",
    "from utils.plots import confusion_matrix_plot"
   ]
  },
  {
   "cell_type": "markdown",
   "id": "a687c303",
   "metadata": {},
   "source": [
    "### **Configuramos Stata**"
   ]
  },
  {
   "cell_type": "code",
   "execution_count": null,
   "id": "956a637c",
   "metadata": {},
   "outputs": [],
   "source": [
    "sys.path.append(os.path.join(STATA_PATH, 'utilities'))\n",
    "import pystata\n",
    "# NOTA: el splash solo aparece la primera vez que se carga pystata. O sea, si esta\n",
    "# celda se ejecuta varias veces, no se vuelve a mostrar el splash.s\n",
    "pystata.config.init('mp', splash=True)"
   ]
  },
  {
   "cell_type": "code",
   "execution_count": null,
   "id": "d499de6a",
   "metadata": {},
   "outputs": [],
   "source": [
    "with open(\"config.json\", \"r\") as f:\n",
    "    config = json.load(f)\n",
    "\n",
    "pprint.pp(config)\n",
    "\n",
    "GROUP = \"Grupo\" + str(config['group'])\n",
    "SIMULATION = \"Simulacion\" + str(config['simulation'])\n",
    "REQ_PERIODS = config['required_periods']\n",
    "METRICS = config['metrics']\n",
    "BETA = config['beta']\n",
    "LOG_TO_MLFLOW = (config['log_to_mlflow'] == \"True\")"
   ]
  },
  {
   "cell_type": "code",
   "execution_count": null,
   "id": "433f521a",
   "metadata": {},
   "outputs": [],
   "source": [
    "# print(f\"Log to MLflow: {LOG_TO_MLFLOW}\")\n",
    "# mlflow_logger = MLflowLogger(\n",
    "#     LOG_TO_MLFLOW,\n",
    "#     TRACKING_SERVER_URI,\n",
    "#     EXPERIMENT_NAME + \"-\" + GROUP,\n",
    "#     EXPERIMENT_TAGS\n",
    "# )"
   ]
  },
  {
   "cell_type": "code",
   "execution_count": null,
   "id": "ef1ea4c0",
   "metadata": {},
   "outputs": [],
   "source": [
    "GROUP_DIR = os.path.join(DATA_DIR, GROUP)\n",
    "stata_filepath = os.path.join(GROUP_DIR, SIMULATION + \".dta\")\n",
    "if os.path.exists(stata_filepath):\n",
    "    df_orig = pd.read_stata(stata_filepath)\n",
    "else:\n",
    "    print(f\"File {stata_filepath} not found.\")"
   ]
  },
  {
   "cell_type": "code",
   "execution_count": null,
   "id": "e79576ff",
   "metadata": {},
   "outputs": [],
   "source": [
    "stata_code = '''\n",
    "qui ds yt*\n",
    "qui local vars `r(varlist)'\n",
    "qui logit tratado `vars'\n",
    "predict pscore, pr\n",
    "psmatch2 tratado, pscore(pscore) neighbor(1) common\n",
    "qui drop _treated _nn `vars'\n",
    "qui rename _weight wlogit\n",
    "'''"
   ]
  },
  {
   "cell_type": "code",
   "execution_count": null,
   "id": "1d40bcac",
   "metadata": {},
   "outputs": [],
   "source": [
    "def get_results(df_stata):\n",
    "    pass"
   ]
  },
  {
   "cell_type": "code",
   "execution_count": null,
   "id": "8ed548ab",
   "metadata": {},
   "outputs": [],
   "source": [
    "df_treated = df_orig[df_orig['tratado'] == 1]\n",
    "\n",
    "df_control = df_orig[df_orig['control'] == 1]\n",
    "control_ids = df_control['id'].unique().tolist()\n",
    "\n",
    "df_not_treated = df_orig[df_orig['tratado'] == 0]\n",
    "\n",
    "df_nini = df_orig[(df_orig['tratado'] == 0) & (df_orig['control'] == 0)]\n",
    "nini_ids = df_nini['id'].unique().tolist()\n",
    "\n",
    "treatment_starts = df_orig['inicio_prog'][df_orig['inicio_prog'] != 0].unique()\n",
    "\n",
    "for tr_start in treatment_starts[:1]:\n",
    "    df_treated_in_cohort = df_treated[df_treated['inicio_prog'] == tr_start]\n",
    "\n",
    "    control_in_cohort = df_control[df_control['inicio_prog'] == tr_start]\n",
    "    control_in_cohort_ids = control_in_cohort['id'].unique().tolist()\n",
    "\n",
    "    transformed_data = []\n",
    "    for df in [df_treated_in_cohort, df_not_treated]:\n",
    "        for id, data in df.groupby('id'):\n",
    "            transformed_data.append(transform(id, data, tr_start, REQ_PERIODS))\n",
    "\n",
    "    df_transformed = pd.DataFrame(transformed_data)\n",
    "    df_transformed = df_transformed.drop(columns=['inicio_prog', 'control'])\n",
    "    df_transformed.columns = [\n",
    "        col.lower().replace('-', '').replace('(', '').replace(')', '') for col in df_transformed.columns\n",
    "    ]\n",
    "\n",
    "    pystata.stata.pdataframe_to_data(df_transformed, force=True)\n",
    "    pystata.stata.run(stata_code)\n",
    "    df_stata = pystata.stata.pdataframe_from_data()"
   ]
  },
  {
   "cell_type": "code",
   "execution_count": null,
   "id": "ad5f0bd1",
   "metadata": {},
   "outputs": [],
   "source": [
    "df_stata.head(50)"
   ]
  },
  {
   "cell_type": "markdown",
   "id": "a525b281",
   "metadata": {},
   "source": [
    "* `-d df_transformed`: carga el dataframe df_transformed en Stata\n",
    "* `-force`: fuerza la carga del dataframe, incluso si ya existe uno con el mismo nombre\n",
    "* `-doutd df_stata`: guarda el dataframe de Stata como df_stata, y se puede acceder\n",
    "desde Python"
   ]
  },
  {
   "cell_type": "markdown",
   "id": "667921b2",
   "metadata": {},
   "source": [
    "Sobre el comando `psmatch2` de Stata: [Stata Documentation for the psmatch2 command](https://www.pep-net.org/sites/pep-net.org/files/typo3doc/pdf/Training_Material/statadoc.pdf)"
   ]
  },
  {
   "cell_type": "code",
   "execution_count": null,
   "id": "a8138d81",
   "metadata": {},
   "outputs": [],
   "source": [
    "# %%stata -d df_transformed -force -doutd df_stata -qui\n",
    "# * Listar columnas que tengan el patron yt*\n",
    "# qui ds yt*\n",
    "\n",
    "# * El resultado del comando ds es guardado en la macro r(varlist). Guardamos este\n",
    "# * resultado en una variable local llamada vars\n",
    "# qui local vars `r(varlist)'\n",
    "\n",
    "# * Regresión logística con las variables temporales\n",
    "# qui logit tratado `vars'\n",
    "\n",
    "# * Predecimos la probabilidad de ser tratado de cada individuo y la almacenamos en una\n",
    "# * nueva variable llamada prob. Esto agrega una nueva columna al dataset llamada prob\n",
    "\n",
    "# * Predict probability of being treated, store it in a new variable called prob\n",
    "# predict pscore, pr\n",
    "\n",
    "# * Histograma de la probabilidad de ser tratado\n",
    "# * histogram prob, by(tratado)\n",
    "\n",
    "# * Hacemos el matching\n",
    "# psmatch2 tratado, pscore(pscore) neighbor(1) common\n",
    "\n",
    "# * Renombramos columns con nombres más interpretables\n",
    "# qui drop _treated _nn `vars'\n",
    "# qui rename _weight wlogit"
   ]
  },
  {
   "cell_type": "code",
   "execution_count": null,
   "id": "d02a7cd3",
   "metadata": {},
   "outputs": [],
   "source": [
    "treated = df_stata[df_stata['tratado'] == 1]\n",
    "\n",
    "# Los individudos identificados como control son los que aparecen en la columna _n1\n",
    "# del DataFrame. Notar que este _n1 hace referencia a la columna _id, NO a id.\n",
    "control_ids_stata = treated['_n1']\n",
    "control_stata = df_stata[df_stata['_id'].isin(control_ids_stata)]\n",
    "control_in_cohort_ids_pred = control_stata['id'].tolist()\n",
    "\n",
    "not_treated = df_stata[df_stata['tratado'] == 0]\n",
    "not_treated_ids = not_treated['id'].unique()\n",
    "nini_ids_pred = list(set(not_treated_ids) - set(control_in_cohort_ids_pred))"
   ]
  },
  {
   "cell_type": "code",
   "execution_count": null,
   "id": "86c2244b",
   "metadata": {},
   "outputs": [],
   "source": [
    "true_0_ids = nini_ids + list(set(control_ids) - set(control_in_cohort_ids_pred))\n",
    "pred_0_ids = nini_ids_pred\n",
    "\n",
    "true_1_ids = control_in_cohort_ids\n",
    "pred_1_ids = control_in_cohort_ids_pred\n",
    "\n",
    "all_ids = list(set(true_0_ids + true_1_ids + pred_0_ids + pred_1_ids))\n",
    "\n",
    "# Create true and predicted label arrays\n",
    "y_true = [0 if id in true_0_ids else 1 for id in all_ids]\n",
    "y_pred = [0 if id in pred_0_ids else 1 for id in all_ids]"
   ]
  },
  {
   "cell_type": "code",
   "execution_count": null,
   "id": "9042ffa4",
   "metadata": {},
   "outputs": [],
   "source": [
    "fig, ax = confusion_matrix_plot(y_true, y_pred)"
   ]
  }
 ],
 "metadata": {
  "kernelspec": {
   "display_name": "tf",
   "language": "python",
   "name": "python3"
  },
  "language_info": {
   "codemirror_mode": {
    "name": "ipython",
    "version": 3
   },
   "file_extension": ".py",
   "mimetype": "text/x-python",
   "name": "python",
   "nbconvert_exporter": "python",
   "pygments_lexer": "ipython3",
   "version": "3.12.7"
  }
 },
 "nbformat": 4,
 "nbformat_minor": 5
}
